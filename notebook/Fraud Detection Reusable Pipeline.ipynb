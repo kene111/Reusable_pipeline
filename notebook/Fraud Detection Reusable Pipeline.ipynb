{
 "cells": [
  {
   "cell_type": "code",
   "execution_count": null,
   "metadata": {},
   "outputs": [],
   "source": [
    "#!python -m pip install --user --upgrade pip\n",
    "#!pip install kfp"
   ]
  },
  {
   "cell_type": "code",
   "execution_count": 1,
   "metadata": {},
   "outputs": [],
   "source": [
    "import kfp\n",
    "from kfp import dsl"
   ]
  },
  {
   "cell_type": "code",
   "execution_count": 2,
   "metadata": {},
   "outputs": [],
   "source": [
    "def preprocess_op():\n",
    "\n",
    "    return dsl.ContainerOp(\n",
    "        name='Preprocess Data',\n",
    "        image='kenechi/preprocess-component:v.0.1',\n",
    "        arguments=[],\n",
    "        file_outputs={\n",
    "            'clean_data': '/data_preprocess/clean_data'\n",
    "        }\n",
    "    )"
   ]
  },
  {
   "cell_type": "code",
   "execution_count": 7,
   "metadata": {},
   "outputs": [],
   "source": [
    "def train_op(clean_data):\n",
    "\n",
    "    return dsl.ContainerOp(\n",
    "        name='Train Model',\n",
    "        image='kenechi/model-training:v.0.4',\n",
    "        arguments=[\n",
    "            '--clean_data',clean_data\n",
    "        ],\n",
    "        file_outputs={\n",
    "            'x_test': '/model_training/x_test.npy',\n",
    "            'y_test': '/model_training/y_test.npy',\n",
    "            'model': '/model_training/model.pkl'\n",
    "        }\n",
    "    )"
   ]
  },
  {
   "cell_type": "code",
   "execution_count": 10,
   "metadata": {},
   "outputs": [],
   "source": [
    "def test_op(x_test,y_test,model):\n",
    "\n",
    "    return dsl.ContainerOp(\n",
    "        name='Test Model',\n",
    "        image='kenechi/model-testing:v.0.3',\n",
    "        arguments=[\n",
    "            '--x_test',x_test,\n",
    "            '--y_test',y_test,\n",
    "            '--model',model,\n",
    "        ],\n",
    "        file_outputs={\n",
    "            'results': '/model_testing/results.txt'\n",
    "        }\n",
    "    )"
   ]
  },
  {
   "cell_type": "code",
   "execution_count": 11,
   "metadata": {},
   "outputs": [],
   "source": [
    "@dsl.pipeline(\n",
    "   name=' Road Safety Pipeline',\n",
    "   description='Road Safety Reuseable Pipeline.'\n",
    ")\n",
    "def road_safety_useable_pipeline():\n",
    "    _preprocess_op = preprocess_op()\n",
    "    \n",
    "    _train_op = train_op(\n",
    "        dsl.InputArgumentPath(_preprocess_op.outputs['clean_data'])\n",
    "    ).after(_preprocess_op)\n",
    "\n",
    "    _test_op = test_op(\n",
    "        dsl.InputArgumentPath( _train_op.outputs['x_test']),\n",
    "        dsl.InputArgumentPath( _train_op.outputs['y_test']),\n",
    "        dsl.InputArgumentPath(_train_op.outputs['model'])\n",
    "    ).after(_train_op)\n"
   ]
  },
  {
   "cell_type": "code",
   "execution_count": 12,
   "metadata": {},
   "outputs": [
    {
     "data": {
      "text/html": [
       "<a href=\"/pipeline/#/experiments/details/0bafa427-5826-4f34-9a8c-1ce6a9cb7d9d\" target=\"_blank\" >Experiment details</a>."
      ],
      "text/plain": [
       "<IPython.core.display.HTML object>"
      ]
     },
     "metadata": {},
     "output_type": "display_data"
    },
    {
     "data": {
      "text/html": [
       "<a href=\"/pipeline/#/runs/details/f0a7ba8d-f89e-4989-96b9-1dbbe4e4b19a\" target=\"_blank\" >Run details</a>."
      ],
      "text/plain": [
       "<IPython.core.display.HTML object>"
      ]
     },
     "metadata": {},
     "output_type": "display_data"
    },
    {
     "data": {
      "text/plain": [
       "RunPipelineResult(run_id=f0a7ba8d-f89e-4989-96b9-1dbbe4e4b19a)"
      ]
     },
     "execution_count": 12,
     "metadata": {},
     "output_type": "execute_result"
    }
   ],
   "source": [
    "client = kfp.Client()\n",
    "client.create_run_from_pipeline_func(road_safety_useable_pipeline, arguments={})"
   ]
  },
  {
   "cell_type": "code",
   "execution_count": null,
   "metadata": {},
   "outputs": [],
   "source": []
  }
 ],
 "metadata": {
  "kernelspec": {
   "display_name": "Python 3",
   "language": "python",
   "name": "python3"
  },
  "language_info": {
   "codemirror_mode": {
    "name": "ipython",
    "version": 3
   },
   "file_extension": ".py",
   "mimetype": "text/x-python",
   "name": "python",
   "nbconvert_exporter": "python",
   "pygments_lexer": "ipython3",
   "version": "3.6.9"
  }
 },
 "nbformat": 4,
 "nbformat_minor": 4
}
